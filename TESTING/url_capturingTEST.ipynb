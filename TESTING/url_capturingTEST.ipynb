{
 "cells": [
  {
   "cell_type": "code",
   "execution_count": 10,
   "id": "995fbf35",
   "metadata": {},
   "outputs": [
    {
     "name": "stdout",
     "output_type": "stream",
     "text": [
      "---------------------------------------------------\n",
      "Status: 200\n",
      "Final URL: https://example.com/\n",
      "Content-Type: text/html\n",
      "Content-Length header: 363\n",
      "Actual body length (bytes): 513\n",
      "---------------------------------------------------\n",
      "HTML Preview (first 500 characters):\n",
      "<!doctype html><html lang=\"en\"><head><title>Example Domain</title><meta name=\"viewport\" content=\"width=device-width, initial-scale=1\"><style>body{background:#eee;width:60vw;margin:15vh auto;font-family:system-ui,sans-serif}h1{font-size:1.5em}div{opacity:0.8}a:link,a:visited{color:#348}</style><body><div><h1>Example Domain</h1><p>This domain is for use in documentation examples without needing permission. Avoid use in operations.<p><a href=\"https://iana.org/domains/example\">Learn more</a></div></body></html>\n",
      "\n",
      "---------------------------------------------------\n"
     ]
    }
   ],
   "source": [
    "import os\n",
    "import sys\n",
    "\n",
    "# Handle both notebook and normal script cases\n",
    "try:\n",
    "    CURRENT_DIR = os.path.dirname(__file__)\n",
    "except NameError:\n",
    "    # __file__ is not defined in notebooks — use the current working directory\n",
    "    CURRENT_DIR = os.getcwd()\n",
    "\n",
    "PARENT_DIR = os.path.abspath(os.path.join(CURRENT_DIR, \"..\"))\n",
    "if PARENT_DIR not in sys.path:\n",
    "    sys.path.insert(0, PARENT_DIR)\n",
    "\n",
    "from DD_FEATURE_EXTRACTOR_09_21_2025 import safe_requests_get\n",
    "\n",
    "def inspect_url(url: str):\n",
    "    \"\"\"Fetch a URL using safe_requests_get and print key response details.\"\"\"\n",
    "    if safe_requests_get is None:\n",
    "        print(\"safe_requests_get not available; aborting.\")\n",
    "        return\n",
    "    r = safe_requests_get(url)\n",
    "    if r is None:\n",
    "        print(\"Request failed or returned no response object.\")\n",
    "        return\n",
    "    print(\"---------------------------------------------------\")\n",
    "    print(\"Status:\", r.status_code)\n",
    "    print(\"Final URL:\", r.url)\n",
    "    print(\"Content-Type:\", r.headers.get(\"Content-Type\"))\n",
    "    print(\"Content-Length header:\", r.headers.get(\"Content-Length\"))\n",
    "    body_bytes = r.content or b\"\"\n",
    "    print(\"Actual body length (bytes):\", len(body_bytes))\n",
    "    try:\n",
    "        preview = body_bytes[:2000].decode(r.encoding or \"utf-8\", errors=\"replace\")\n",
    "    except Exception:\n",
    "        preview = \"(failed to decode preview)\"\n",
    "    print(\"---------------------------------------------------\")\n",
    "    print(\"HTML Preview (first 500 characters):\")\n",
    "    print(preview)\n",
    "    print(\"---------------------------------------------------\")\n",
    "\n",
    "if __name__ == \"__main__\":\n",
    "    test_url = \"https://example.com\"\n",
    "    inspect_url(test_url)\n"
   ]
  }
 ],
 "metadata": {
  "kernelspec": {
   "display_name": "env",
   "language": "python",
   "name": "python3"
  },
  "language_info": {
   "codemirror_mode": {
    "name": "ipython",
    "version": 3
   },
   "file_extension": ".py",
   "mimetype": "text/x-python",
   "name": "python",
   "nbconvert_exporter": "python",
   "pygments_lexer": "ipython3",
   "version": "3.12.10"
  }
 },
 "nbformat": 4,
 "nbformat_minor": 5
}
