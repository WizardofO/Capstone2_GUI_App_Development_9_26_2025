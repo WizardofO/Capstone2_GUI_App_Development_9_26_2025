{
 "cells": [
  {
   "cell_type": "code",
   "execution_count": 1,
   "id": "18ae29a0",
   "metadata": {},
   "outputs": [
    {
     "name": "stdout",
     "output_type": "stream",
     "text": [
      "<class 'sklearn.ensemble._forest.RandomForestClassifier'>\n",
      "Trained features: 23\n",
      "Scaler: <class 'sklearn.preprocessing._data.StandardScaler'>\n"
     ]
    }
   ],
   "source": [
    "import joblib\n",
    "bundle = joblib.load(r\"C:\\Users\\Osias\\OneDrive\\Documents\\CAPSTONE2_Codes_UIUX_GExtension\\best_phishing_model_08.pkl\")\n",
    "\n",
    "print(type(bundle[\"model\"]))\n",
    "print(\"Trained features:\", len(bundle[\"features\"]))\n",
    "print(\"Scaler:\", type(bundle[\"scaler\"]))\n"
   ]
  },
  {
   "cell_type": "code",
   "execution_count": 2,
   "id": "e519204a",
   "metadata": {},
   "outputs": [
    {
     "name": "stdout",
     "output_type": "stream",
     "text": [
      "<class 'sklearn.ensemble._forest.RandomForestClassifier'>\n",
      "Trained features: 25\n",
      "Scaler: <class 'sklearn.preprocessing._data.StandardScaler'>\n"
     ]
    }
   ],
   "source": [
    "import joblib\n",
    "bundle = joblib.load(r\"C:\\Users\\Osias\\OneDrive\\Documents\\CAPSTONE2_Codes_UIUX_GExtension\\best_phishing_model_14_Balanced Model.pkl\")\n",
    "\n",
    "print(type(bundle[\"model\"]))\n",
    "print(\"Trained features:\", len(bundle[\"features\"]))\n",
    "print(\"Scaler:\", type(bundle[\"scaler\"]))"
   ]
  },
  {
   "cell_type": "code",
   "execution_count": null,
   "id": "77104fcb",
   "metadata": {},
   "outputs": [
    {
     "name": "stdout",
     "output_type": "stream",
     "text": [
      "✅ Model saved successfully as test_model.pkl\n",
      "✅ Model structure verified:\n",
      "Model type: <class 'sklearn.ensemble._forest.RandomForestClassifier'>\n",
      "Features: ['f0', 'f1', 'f2', 'f3', 'f4']\n",
      "✅ Test prediction: [1]\n"
     ]
    }
   ],
   "source": [
    "# MODEL SAVING TEST SCRIPT\n",
    "import joblib\n",
    "import numpy as np\n",
    "from sklearn.ensemble import RandomForestClassifier\n",
    "from sklearn.datasets import make_classification\n",
    "\n",
    "# 1. Train a small dummy model\n",
    "X, y = make_classification(n_samples=100, n_features=5, random_state=17)\n",
    "model = RandomForestClassifier(random_state=17)\n",
    "model.fit(X, y)\n",
    "\n",
    "# 2. Prepare save bundle (like your training script)\n",
    "bundle = {\n",
    "    \"model\": model,\n",
    "    \"scaler\": None,   # Replace with your trained scaler if any\n",
    "    \"features\": [f\"f{i}\" for i in range(X.shape[1])],\n",
    "    \"label_col\": \"label\"\n",
    "}\n",
    "\n",
    "# 3. Save the model\n",
    "joblib.dump(bundle, \"test_model.pkl\")\n",
    "print(\"✅ Model saved successfully as test_model.pkl\")\n",
    "\n",
    "# 4. Load it back to verify\n",
    "loaded = joblib.load(\"test_model.pkl\")\n",
    "\n",
    "# 5. Validate contents\n",
    "assert \"model\" in loaded and hasattr(loaded[\"model\"], \"predict\"), \"Model key missing or invalid\"\n",
    "assert \"features\" in loaded, \"Features key missing\"\n",
    "print(\"✅ Model structure verified:\")\n",
    "print(\"Model type:\", type(loaded[\"model\"]))\n",
    "print(\"Features:\", loaded[\"features\"])\n",
    "\n",
    "# 6. Make a quick test prediction\n",
    "sample = np.random.rand(1, X.shape[1])\n",
    "pred = loaded[\"model\"].predict(sample)\n",
    "print(\"✅ Test prediction:\", pred)\n"
   ]
  },
  {
   "cell_type": "code",
   "execution_count": null,
   "id": "d7b40235",
   "metadata": {},
   "outputs": [
    {
     "name": "stdout",
     "output_type": "stream",
     "text": [
      "dict_keys(['model', 'scaler', 'features', 'label_col'])\n",
      "Model type: <class 'sklearn.ensemble._forest.RandomForestClassifier'>\n",
      "Scaler type: <class 'sklearn.preprocessing._data.StandardScaler'>\n",
      "Features: ['url_length', 'url_shortening', 'too_many_subdomains', 'https_in_string', 'ssl_tls_validity', 'domain_registration_length', 'external_favicon', 'count_dots', 'suspicious_chars', 'use_script', 'count_third_party_domains', 'use_meta', 'script_external_ratio', 'use_form', 'mailto', 'website_forwarding', 'status_bar_customization', 'popups', 'iframes', 'sensitive_forms', 'domain_age', 'dns_record_count', 'whois_suspicious_tokens']\n"
     ]
    }
   ],
   "source": [
    "# MODEL LOADING TEST SCRIPT\n",
    "import joblib\n",
    "\n",
    "bundle = joblib.load(r\"C:\\Users\\Osias\\OneDrive\\Documents\\CAPSTONE2_Codes_UIUX_GExtension\\best_phishing_model_08.pkl\")\n",
    "print(bundle.keys())\n",
    "print(\"Model type:\", type(bundle[\"model\"]))\n",
    "print(\"Scaler type:\", type(bundle[\"scaler\"]))\n",
    "print(\"Features:\", bundle[\"features\"][:35])  # print all features\n"
   ]
  },
  {
   "cell_type": "code",
   "execution_count": 4,
   "id": "5cc0839c",
   "metadata": {},
   "outputs": [
    {
     "name": "stdout",
     "output_type": "stream",
     "text": [
      "Training Accuracy: 1.0000\n",
      "Testing Accuracy: 0.9835\n",
      "\n",
      "Confusion Matrix:\n",
      " [[  9   2]\n",
      " [  2 230]]\n",
      "\n",
      "Classification Report:\n",
      "               precision    recall  f1-score   support\n",
      "\n",
      "           0       0.82      0.82      0.82        11\n",
      "           1       0.99      0.99      0.99       232\n",
      "\n",
      "    accuracy                           0.98       243\n",
      "   macro avg       0.90      0.90      0.90       243\n",
      "weighted avg       0.98      0.98      0.98       243\n",
      "\n"
     ]
    }
   ],
   "source": [
    "# ===============================================\n",
    "# Evaluate Training & Testing Accuracy (Fixed)\n",
    "# ===============================================\n",
    "\n",
    "import pandas as pd\n",
    "from sklearn.model_selection import train_test_split\n",
    "from sklearn.ensemble import RandomForestClassifier\n",
    "from sklearn.metrics import accuracy_score, classification_report, confusion_matrix\n",
    "\n",
    "# 1. Load your dataset\n",
    "df = pd.read_csv(r\"C:\\Users\\Osias\\OneDrive\\Documents\\CAPSTONE2_Codes_UIUX_GExtension\\features_output_FEATURE EXTRACTION_Blackeye_Zphisher_Hiddeneye_Phishtank_allLegits_09_30_2025_EDITED.csv\")\n",
    "\n",
    "# 2. Identify the label column\n",
    "label_col = \"label\"  # change if needed\n",
    "\n",
    "# 3. Select only numeric columns for training\n",
    "numeric = df.select_dtypes(include=[\"number\"]).copy()\n",
    "\n",
    "# 4. Ensure label column is present\n",
    "if label_col not in numeric.columns:\n",
    "    numeric[label_col] = df[label_col]\n",
    "\n",
    "# 5. Drop constant (non-informative) columns\n",
    "numeric = numeric.loc[:, numeric.nunique() > 1]\n",
    "\n",
    "# 6. Separate features and labels\n",
    "X = numeric.drop(columns=[label_col])\n",
    "y = numeric[label_col]\n",
    "\n",
    "# 7. Fill missing numeric values with their column medians\n",
    "X = X.fillna(X.median(numeric_only=True))\n",
    "\n",
    "# 8. Split into training and testing sets\n",
    "X_train, X_test, y_train, y_test = train_test_split(\n",
    "    X, y, test_size=0.2, random_state=17, stratify=y\n",
    ")\n",
    "\n",
    "# 9. Train the model\n",
    "model = RandomForestClassifier(\n",
    "    n_estimators=100,\n",
    "    random_state=17,\n",
    "    class_weight=\"balanced\"\n",
    ")\n",
    "model.fit(X_train, y_train)\n",
    "\n",
    "# 10. Predict on both train and test sets\n",
    "y_train_pred = model.predict(X_train)\n",
    "y_test_pred = model.predict(X_test)\n",
    "\n",
    "# 11. Compute accuracies\n",
    "train_acc = accuracy_score(y_train, y_train_pred)\n",
    "test_acc = accuracy_score(y_test, y_test_pred)\n",
    "\n",
    "# 12. Print metrics\n",
    "print(f\"Training Accuracy: {train_acc:.4f}\")\n",
    "print(f\"Testing Accuracy: {test_acc:.4f}\")\n",
    "\n",
    "# Optional detailed report\n",
    "print(\"\\nConfusion Matrix:\\n\", confusion_matrix(y_test, y_test_pred))\n",
    "print(\"\\nClassification Report:\\n\", classification_report(y_test, y_test_pred))\n"
   ]
  },
  {
   "cell_type": "code",
   "execution_count": 5,
   "id": "2ef99bf3",
   "metadata": {},
   "outputs": [
    {
     "name": "stdout",
     "output_type": "stream",
     "text": [
      "\n",
      "Confusion Matrix:\n",
      " [[  9   2]\n",
      " [  2 230]]\n",
      "\n",
      "Classification Report:\n",
      "               precision    recall  f1-score   support\n",
      "\n",
      "           0       0.82      0.82      0.82        11\n",
      "           1       0.99      0.99      0.99       232\n",
      "\n",
      "    accuracy                           0.98       243\n",
      "   macro avg       0.90      0.90      0.90       243\n",
      "weighted avg       0.98      0.98      0.98       243\n",
      "\n"
     ]
    }
   ],
   "source": [
    "from sklearn.metrics import classification_report, confusion_matrix\n",
    "\n",
    "print(\"\\nConfusion Matrix:\\n\", confusion_matrix(y_test, y_test_pred))\n",
    "print(\"\\nClassification Report:\\n\", classification_report(y_test, y_test_pred))\n"
   ]
  },
  {
   "cell_type": "code",
   "execution_count": 6,
   "id": "755a7e3e",
   "metadata": {},
   "outputs": [
    {
     "name": "stdout",
     "output_type": "stream",
     "text": [
      "Cross-validation scores: [0.99588477 1.         0.99588477 0.98765432 0.65289256]\n",
      "Average accuracy: 0.9264632860592457\n"
     ]
    }
   ],
   "source": [
    "from sklearn.model_selection import cross_val_score\n",
    "\n",
    "scores = cross_val_score(model, X, y, cv=5)\n",
    "print(\"Cross-validation scores:\", scores)\n",
    "print(\"Average accuracy:\", scores.mean())\n"
   ]
  },
  {
   "cell_type": "code",
   "execution_count": 7,
   "id": "c12ee984",
   "metadata": {},
   "outputs": [
    {
     "data": {
      "image/png": "[encoded data removed]",
      "text/plain": [
       "<Figure size 640x480 with 1 Axes>"
      ]
     },
     "metadata": {},
     "output_type": "display_data"
    }
   ],
   "source": [
    "from sklearn.model_selection import learning_curve\n",
    "import matplotlib.pyplot as plt\n",
    "import numpy as np\n",
    "\n",
    "train_sizes, train_scores, test_scores = learning_curve(model, X, y, cv=5)\n",
    "\n",
    "train_mean = np.mean(train_scores, axis=1)\n",
    "test_mean = np.mean(test_scores, axis=1)\n",
    "\n",
    "plt.plot(train_sizes, train_mean, label='Training score')\n",
    "plt.plot(train_sizes, test_mean, label='Cross-validation score')\n",
    "plt.xlabel('Training Set Size')\n",
    "plt.ylabel('Accuracy')\n",
    "plt.legend()\n",
    "plt.title('Learning Curve')\n",
    "plt.show()\n"
   ]
  },
  {
   "cell_type": "code",
   "execution_count": 11,
   "id": "414e31ea",
   "metadata": {},
   "outputs": [],
   "source": [
    "from sklearn.tree import DecisionTreeClassifier\n",
    "\n",
    "model = DecisionTreeClassifier(max_depth=10, random_state=42)\n"
   ]
  },
  {
   "cell_type": "code",
   "execution_count": null,
   "id": "d29cf4c5",
   "metadata": {},
   "outputs": [
    {
     "name": "stdout",
     "output_type": "stream",
     "text": [
      "dict_keys(['model', 'scaler', 'features', 'label_col'])\n",
      "Model type: <class 'sklearn.ensemble._forest.RandomForestClassifier'>\n",
      "Scaler type: <class 'sklearn.preprocessing._data.StandardScaler'>\n",
      "Features: ['url_length', 'url_shortening', 'redirection_symbol', 'hyphen_in_domain', 'too_many_subdomains', 'https_in_string', 'ssl_tls_validity', 'domain_registration_length', 'external_favicon', 'count_dots', 'suspicious_chars', 'use_script', 'count_third_party_domains', 'use_meta', 'script_external_ratio', 'use_form', 'mailto', 'website_forwarding', 'status_bar_customization', 'popups', 'iframes', 'sensitive_forms', 'domain_age', 'dns_record_count', 'whois_suspicious_tokens']\n"
     ]
    }
   ],
   "source": [
    "# Testing Actual Saved Model from GUI Predictions\n",
    "import joblib\n",
    "\n",
    "bundle = joblib.load(r\"C:\\Users\\Osias\\OneDrive\\Documents\\CAPSTONE2_Codes_UIUX_GExtension\\best_phishing_model_14_Balanced Model.pkl\")\n",
    "print(bundle.keys())\n",
    "print(\"Model type:\", type(bundle[\"model\"]))\n",
    "print(\"Scaler type:\", type(bundle[\"scaler\"]))\n",
    "print(\"Features:\", bundle[\"features\"][:35])  # #35 is all features complete list\n"
   ]
  },
  {
   "cell_type": "code",
   "execution_count": 19,
   "id": "d786eb7e",
   "metadata": {},
   "outputs": [
    {
     "name": "stdout",
     "output_type": "stream",
     "text": [
      "Accuracy: 0.9563426688632619\n",
      "Confusion matrix:\n",
      " [[   0   53]\n",
      " [   0 1161]]\n",
      "Classification report:\n",
      "               precision    recall  f1-score   support\n",
      "\n",
      "           0       0.00      0.00      0.00        53\n",
      "           1       0.96      1.00      0.98      1161\n",
      "\n",
      "    accuracy                           0.96      1214\n",
      "   macro avg       0.48      0.50      0.49      1214\n",
      "weighted avg       0.91      0.96      0.94      1214\n",
      "\n",
      "ROC AUC: 0.23165618448637312\n"
     ]
    },
    {
     "name": "stderr",
     "output_type": "stream",
     "text": [
      "c:\\Users\\Osias\\OneDrive\\Documents\\CAPSTONE2_Codes_UIUX_GExtension\\env\\Lib\\site-packages\\sklearn\\utils\\validation.py:2749: UserWarning: X does not have valid feature names, but RandomForestClassifier was fitted with feature names\n",
      "  warnings.warn(\n",
      "c:\\Users\\Osias\\OneDrive\\Documents\\CAPSTONE2_Codes_UIUX_GExtension\\env\\Lib\\site-packages\\sklearn\\metrics\\_classification.py:1731: UndefinedMetricWarning: Precision is ill-defined and being set to 0.0 in labels with no predicted samples. Use `zero_division` parameter to control this behavior.\n",
      "  _warn_prf(average, modifier, f\"{metric.capitalize()} is\", result.shape[0])\n",
      "c:\\Users\\Osias\\OneDrive\\Documents\\CAPSTONE2_Codes_UIUX_GExtension\\env\\Lib\\site-packages\\sklearn\\metrics\\_classification.py:1731: UndefinedMetricWarning: Precision is ill-defined and being set to 0.0 in labels with no predicted samples. Use `zero_division` parameter to control this behavior.\n",
      "  _warn_prf(average, modifier, f\"{metric.capitalize()} is\", result.shape[0])\n",
      "c:\\Users\\Osias\\OneDrive\\Documents\\CAPSTONE2_Codes_UIUX_GExtension\\env\\Lib\\site-packages\\sklearn\\metrics\\_classification.py:1731: UndefinedMetricWarning: Precision is ill-defined and being set to 0.0 in labels with no predicted samples. Use `zero_division` parameter to control this behavior.\n",
      "  _warn_prf(average, modifier, f\"{metric.capitalize()} is\", result.shape[0])\n",
      "c:\\Users\\Osias\\OneDrive\\Documents\\CAPSTONE2_Codes_UIUX_GExtension\\env\\Lib\\site-packages\\sklearn\\utils\\validation.py:2749: UserWarning: X does not have valid feature names, but RandomForestClassifier was fitted with feature names\n",
      "  warnings.warn(\n"
     ]
    }
   ],
   "source": [
    "from sklearn.metrics import accuracy_score, classification_report, confusion_matrix, roc_auc_score\n",
    "import joblib, pandas as pd, numpy as np\n",
    "\n",
    "bundle = joblib.load(r\"C:\\Users\\Osias\\OneDrive\\Documents\\CAPSTONE2_Codes_UIUX_GExtension\\best_phishing_model_14_Balanced Model.pkl\")\n",
    "model = bundle[\"model\"]\n",
    "scaler = bundle[\"scaler\"]\n",
    "features = bundle[\"features\"]\n",
    "label_col = bundle[\"label_col\"]\n",
    "\n",
    "df = pd.read_csv(r\"C:\\Users\\Osias\\OneDrive\\Documents\\CAPSTONE2_Codes_UIUX_GExtension\\features_output_FEATURE EXTRACTION_Blackeye_Zphisher_Hiddeneye_Phishtank_allLegits_09_30_2025_EDITED.csv\")   # ground-truth labeled test data\n",
    "X = df[features].fillna(df[features].median())\n",
    "y = df[label_col].astype(int)\n",
    "X_arr = scaler.transform(X) if scaler is not None else X.values\n",
    "\n",
    "y_pred = model.predict(X_arr)\n",
    "print(\"Accuracy:\", accuracy_score(y, y_pred))\n",
    "print(\"Confusion matrix:\\n\", confusion_matrix(y, y_pred))\n",
    "print(\"Classification report:\\n\", classification_report(y, y_pred))\n",
    "\n",
    "# If model supports predict_proba and it's binary:\n",
    "if hasattr(model, \"predict_proba\"):\n",
    "    y_proba = model.predict_proba(X_arr)[:, 1]\n",
    "    try:\n",
    "        print(\"ROC AUC:\", roc_auc_score(y, y_proba))\n",
    "    except Exception:\n",
    "        pass\n"
   ]
  },
  {
   "cell_type": "code",
   "execution_count": null,
   "id": "476f3d7e",
   "metadata": {},
   "outputs": [
    {
     "name": "stdout",
     "output_type": "stream",
     "text": [
      "CV F1 scores: [0.99785867 1.         0.99784946 0.99357602 0.77894737]\n",
      "Mean CV F1: 0.9536463040588277\n"
     ]
    }
   ],
   "source": [
    "# Cross-validation / stability test\n",
    "from sklearn.model_selection import cross_val_score\n",
    "import joblib, pandas as pd\n",
    "bundle = joblib.load(r\"C:\\Users\\Osias\\OneDrive\\Documents\\CAPSTONE2_Codes_UIUX_GExtension\\best_phishing_model_14_Balanced Model.pkl\")\n",
    "model = bundle[\"model\"]\n",
    "features = bundle[\"features\"]\n",
    "df = pd.read_csv(r\"C:\\Users\\Osias\\OneDrive\\Documents\\CAPSTONE2_Codes_UIUX_GExtension\\features_output_FEATURE EXTRACTION_Blackeye_Zphisher_Hiddeneye_Phishtank_allLegits_09_30_2025_EDITED.csv\")\n",
    "X = df[features].fillna(df[features].median())\n",
    "y = df[bundle[\"label_col\"]]\n",
    "\n",
    "scores = cross_val_score(model, X, y, cv=5, scoring=\"f1\")\n",
    "print(\"CV F1 scores:\", scores)\n",
    "print(\"Mean CV F1:\", scores.mean())\n"
   ]
  },
  {
   "cell_type": "code",
   "execution_count": 16,
   "id": "eef7de51",
   "metadata": {},
   "outputs": [],
   "source": [
    "# Unit tests / automated tests (CI)\n",
    "def test_model_loads():\n",
    "    bundle = joblib.load(r\"C:\\Users\\Osias\\OneDrive\\Documents\\CAPSTONE2_Codes_UIUX_GExtension\\best_phishing_model_14_Balanced Model.pkll\")\n",
    "    assert \"model\" in bundle\n",
    "    assert callable(getattr(bundle[\"model\"], \"predict\"))\n"
   ]
  },
  {
   "cell_type": "code",
   "execution_count": null,
   "id": "2e83a202",
   "metadata": {},
   "outputs": [
    {
     "name": "stdout",
     "output_type": "stream",
     "text": [
      "Single predict ms: 3.2868385314941406\n"
     ]
    },
    {
     "name": "stderr",
     "output_type": "stream",
     "text": [
      "c:\\Users\\Osias\\OneDrive\\Documents\\CAPSTONE2_Codes_UIUX_GExtension\\env\\Lib\\site-packages\\sklearn\\utils\\validation.py:2749: UserWarning: X does not have valid feature names, but RandomForestClassifier was fitted with feature names\n",
      "  warnings.warn(\n"
     ]
    }
   ],
   "source": [
    "# Performance (latency & memory) test\n",
    "import time\n",
    "t0 = time.time()\n",
    "model.predict(X_arr[:1])\n",
    "print(\"Single predict ms:\", (time.time()-t0)*1000)\n"
   ]
  },
  {
   "cell_type": "code",
   "execution_count": 22,
   "id": "6c9ee790",
   "metadata": {},
   "outputs": [
    {
     "data": {
      "image/png": "[encoded data removed]",
      "text/plain": [
       "<Figure size 640x480 with 1 Axes>"
      ]
     },
     "metadata": {},
     "output_type": "display_data"
    }
   ],
   "source": [
    "from sklearn.metrics import roc_curve, roc_auc_score\n",
    "import matplotlib.pyplot as plt\n",
    "\n",
    "y_proba = model.predict_proba(X_test)[:, 1]\n",
    "fpr, tpr, _ = roc_curve(y_test, y_proba)\n",
    "plt.plot(fpr, tpr, label=f\"AUC={roc_auc_score(y_test, y_proba):.3f}\")\n",
    "plt.plot([0,1],[0,1],'--',color='gray')\n",
    "plt.legend()\n",
    "plt.show()\n"
   ]
  }
 ],
 "metadata": {
  "kernelspec": {
   "display_name": "env",
   "language": "python",
   "name": "python3"
  },
  "language_info": {
   "codemirror_mode": {
    "name": "ipython",
    "version": 3
   },
   "file_extension": ".py",
   "mimetype": "text/x-python",
   "name": "python",
   "nbconvert_exporter": "python",
   "pygments_lexer": "ipython3",
   "version": "3.12.10"
  }
 },
 "nbformat": 4,
 "nbformat_minor": 5
}
