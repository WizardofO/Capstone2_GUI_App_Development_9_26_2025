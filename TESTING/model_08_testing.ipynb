{
 "cells": [
  {
   "cell_type": "code",
   "execution_count": 1,
   "id": "18ae29a0",
   "metadata": {},
   "outputs": [
    {
     "name": "stdout",
     "output_type": "stream",
     "text": [
      "<class 'sklearn.ensemble._forest.RandomForestClassifier'>\n",
      "Trained features: 23\n",
      "Scaler: <class 'sklearn.preprocessing._data.StandardScaler'>\n"
     ]
    }
   ],
   "source": [
    "import joblib\n",
    "bundle = joblib.load(r\"C:\\Users\\Osias\\OneDrive\\Documents\\CAPSTONE2_Codes_UIUX_GExtension\\best_phishing_model_08.pkl\")\n",
    "\n",
    "print(type(bundle[\"model\"]))\n",
    "print(\"Trained features:\", len(bundle[\"features\"]))\n",
    "print(\"Scaler:\", type(bundle[\"scaler\"]))\n"
   ]
  },
  {
   "cell_type": "code",
   "execution_count": 2,
   "id": "e519204a",
   "metadata": {},
   "outputs": [
    {
     "name": "stdout",
     "output_type": "stream",
     "text": [
      "<class 'sklearn.ensemble._forest.RandomForestClassifier'>\n",
      "Trained features: 25\n",
      "Scaler: <class 'sklearn.preprocessing._data.StandardScaler'>\n"
     ]
    }
   ],
   "source": [
    "import joblib\n",
    "bundle = joblib.load(r\"C:\\Users\\Osias\\OneDrive\\Documents\\CAPSTONE2_Codes_UIUX_GExtension\\best_phishing_model_14_Balanced Model.pkl\")\n",
    "\n",
    "print(type(bundle[\"model\"]))\n",
    "print(\"Trained features:\", len(bundle[\"features\"]))\n",
    "print(\"Scaler:\", type(bundle[\"scaler\"]))"
   ]
  },
  {
   "cell_type": "code",
   "execution_count": null,
   "id": "77104fcb",
   "metadata": {},
   "outputs": [],
   "source": [
    "import joblib\n",
    "import numpy as np\n",
    "from sklearn.ensemble import RandomForestClassifier\n",
    "from sklearn.datasets import make_classification\n",
    "\n",
    "# 1. Train a small dummy model\n",
    "X, y = make_classification(n_samples=100, n_features=5, random_state=17)\n",
    "model = RandomForestClassifier(random_state=17)\n",
    "model.fit(X, y)\n",
    "\n",
    "# 2. Prepare save bundle (like your training script)\n",
    "bundle = {\n",
    "    \"model\": model,\n",
    "    \"scaler\": None,   # Replace with your trained scaler if any\n",
    "    \"features\": [f\"f{i}\" for i in range(X.shape[1])],\n",
    "    \"label_col\": \"label\"\n",
    "}\n",
    "\n",
    "# 3. Save the model\n",
    "joblib.dump(bundle, \"test_model.pkl\")\n",
    "print(\"✅ Model saved successfully as test_model.pkl\")\n",
    "\n",
    "# 4. Load it back to verify\n",
    "loaded = joblib.load(\"test_model.pkl\")\n",
    "\n",
    "# 5. Validate contents\n",
    "assert \"model\" in loaded and hasattr(loaded[\"model\"], \"predict\"), \"Model key missing or invalid\"\n",
    "assert \"features\" in loaded, \"Features key missing\"\n",
    "print(\"✅ Model structure verified:\")\n",
    "print(\"Model type:\", type(loaded[\"model\"]))\n",
    "print(\"Features:\", loaded[\"features\"])\n",
    "\n",
    "# 6. Make a quick test prediction\n",
    "sample = np.random.rand(1, X.shape[1])\n",
    "pred = loaded[\"model\"].predict(sample)\n",
    "print(\"✅ Test prediction:\", pred)\n"
   ]
  }
 ],
 "metadata": {
  "kernelspec": {
   "display_name": "env",
   "language": "python",
   "name": "python3"
  },
  "language_info": {
   "codemirror_mode": {
    "name": "ipython",
    "version": 3
   },
   "file_extension": ".py",
   "mimetype": "text/x-python",
   "name": "python",
   "nbconvert_exporter": "python",
   "pygments_lexer": "ipython3",
   "version": "3.12.10"
  }
 },
 "nbformat": 4,
 "nbformat_minor": 5
}
